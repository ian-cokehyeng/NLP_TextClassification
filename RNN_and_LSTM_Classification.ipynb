{
 "cells": [
  {
   "cell_type": "markdown",
   "id": "4619151f-5bf1-4f6d-841f-0781ba6bd8b7",
   "metadata": {},
   "source": [
    "# **NLP Techniques for Text Classification: Spam or Ham?**"
   ]
  },
  {
   "cell_type": "markdown",
   "id": "ba55a460-0535-4a6e-8ae3-0f50aaab5591",
   "metadata": {},
   "source": [
    "## Introduction\n",
    "Recurrent Neural Networks (RNNs) and Long Short-Term Memory (LSTM) networks are powerful tools for tackling various text-based data science challenges. These models excel at handling sequential information due to their ability to maintain context across time steps, making them well-suited for tasks like text classification, sentiment analysis, and language modeling.\n",
    "\n",
    "While RNNs employ a simple yet effective architecture to capture temporal dependencies, LSTMs enhance this capability by mitigating the vanishing gradient problem through their complex cell structure, allowing them to learn long-term dependencies more effectively.\n",
    "\n",
    "In this notebook, we will develop and compare the performance of RNN and LSTM models for classifying emails as spam or legitimate (ham).\n",
    "\n",
    "## About the Data\n",
    "The data was obtained from Kaggle [https://www.kaggle.com/datasets/prishasawhney/email-classification-ham-spam], containing two columns:\n",
    "\n",
    "* **Email**: This column contains the textual description of the email/ message, offering a diverse range of vocabulary and language patterns.\n",
    "* **Label**: Each review is classified into either Ham (non-spam) or Spam.\n",
    "\n",
    "The dataset is split into three: *Train Set* consisting of 116 data points, *Validation Set* consisting of 36 data points, and *Test Set* consisting of 27 data points, totalling 179 data points. "
   ]
  },
  {
   "cell_type": "markdown",
   "id": "b6483955",
   "metadata": {},
   "source": [
    "## **Methodology**"
   ]
  },
  {
   "cell_type": "markdown",
   "id": "9c21ee6c",
   "metadata": {},
   "source": [
    "![methodology](methodology.png)"
   ]
  },
  {
   "cell_type": "markdown",
   "id": "dd8e506a-f91f-4868-81ad-56a1a1d8851f",
   "metadata": {
    "execution": {
     "iopub.execute_input": "2024-06-20T02:53:50.145136Z",
     "iopub.status.busy": "2024-06-20T02:53:50.144095Z",
     "iopub.status.idle": "2024-06-20T02:53:50.164704Z",
     "shell.execute_reply": "2024-06-20T02:53:50.163050Z",
     "shell.execute_reply.started": "2024-06-20T02:53:50.145069Z"
    }
   },
   "source": [
    "## **Execution**"
   ]
  },
  {
   "cell_type": "markdown",
   "id": "00e40844",
   "metadata": {},
   "source": [
    "### Imports"
   ]
  },
  {
   "cell_type": "code",
   "execution_count": 25,
   "id": "a5839d46-8cd8-4cbe-a55d-c76a075c741d",
   "metadata": {
    "execution": {
     "iopub.execute_input": "2024-04-27T03:42:36.393040Z",
     "iopub.status.busy": "2024-04-27T03:42:36.392358Z",
     "iopub.status.idle": "2024-04-27T03:42:36.402147Z",
     "shell.execute_reply": "2024-04-27T03:42:36.400692Z",
     "shell.execute_reply.started": "2024-04-27T03:42:36.392982Z"
    }
   },
   "outputs": [],
   "source": [
    "# Import Libraries\n",
    "import tensorflow as tf\n",
    "from keras import Sequential\n",
    "from keras.layers import Embedding, SimpleRNN, Dense, LSTM, Dropout\n",
    "from keras.preprocessing import sequence\n",
    "import matplotlib.pyplot as plt\n",
    "import numpy as np\n",
    "import pandas as pd\n",
    "from tensorflow.keras.preprocessing.text import Tokenizer\n",
    "from keras.callbacks import ModelCheckpoint\n",
    "from sklearn.metrics import precision_score, recall_score, f1_score, accuracy_score"
   ]
  },
  {
   "cell_type": "markdown",
   "id": "718a08f2",
   "metadata": {},
   "source": [
    "### Data Loading and Preprocessing"
   ]
  },
  {
   "cell_type": "code",
   "execution_count": 2,
   "id": "16ecbaa3-2c07-42af-827f-414fd76242b4",
   "metadata": {
    "execution": {
     "iopub.execute_input": "2024-04-27T03:42:36.405374Z",
     "iopub.status.busy": "2024-04-27T03:42:36.404750Z",
     "iopub.status.idle": "2024-04-27T03:42:36.435340Z",
     "shell.execute_reply": "2024-04-27T03:42:36.433831Z",
     "shell.execute_reply.started": "2024-04-27T03:42:36.405317Z"
    }
   },
   "outputs": [],
   "source": [
    "# Load and Process Data\n",
    "file_path = 'email_classification.csv'\n",
    "df = pd.read_csv(file_path)\n",
    "df = df.sample(frac=1, random_state=42).reset_index(drop=True)\n",
    "inputs, labels = df.email, df.label\n",
    "\n",
    "tokenizer = tf.keras.preprocessing.text.Tokenizer()\n",
    "tokenizer.fit_on_texts(inputs)\n",
    "inputs = tokenizer.texts_to_sequences(inputs)\n",
    "labels = np.array([(i=='spam')+0 for i in labels])\n",
    "\n",
    "max_features = 10000\n",
    "maxlen = 20\n",
    "inputs = sequence.pad_sequences(inputs, maxlen=maxlen)\n",
    "\n",
    "test_size = round(len(labels) * 0.15)\n",
    "val_size = round(len(labels) * 0.2)\n",
    "train_size = len(labels) - test_size - val_size\n",
    "\n",
    "x_train, y_train = inputs[:train_size], labels[:train_size]\n",
    "x_val, y_val = inputs[train_size:train_size + val_size], labels[train_size:train_size + val_size]\n",
    "x_test, y_test = inputs[train_size + val_size:], labels[train_size + val_size:]"
   ]
  },
  {
   "cell_type": "code",
   "execution_count": 3,
   "id": "faf7adfe-2c67-495d-a9c6-080c998c63c6",
   "metadata": {
    "execution": {
     "iopub.execute_input": "2024-04-27T03:47:17.131662Z",
     "iopub.status.busy": "2024-04-27T03:47:17.130933Z",
     "iopub.status.idle": "2024-04-27T03:47:17.142246Z",
     "shell.execute_reply": "2024-04-27T03:47:17.140031Z",
     "shell.execute_reply.started": "2024-04-27T03:47:17.131566Z"
    }
   },
   "outputs": [
    {
     "name": "stdout",
     "output_type": "stream",
     "text": [
      "train_size: 116\n",
      "val_size: 36\n",
      "test_size: 27\n"
     ]
    }
   ],
   "source": [
    "print(f'train_size: {train_size}')\n",
    "print(f'val_size: {val_size}')\n",
    "print(f'test_size: {test_size}')"
   ]
  },
  {
   "cell_type": "markdown",
   "id": "4e4d2385",
   "metadata": {},
   "source": [
    "### Exploratory Data Analysis"
   ]
  },
  {
   "cell_type": "code",
   "execution_count": 58,
   "id": "a274552b",
   "metadata": {},
   "outputs": [
    {
     "name": "stdout",
     "output_type": "stream",
     "text": [
      "spam: Act now! Limited-time offer on luxury watches. Click here to buy now!\n",
      "spam: You're a winner! Click here to claim your exclusive prize.\n",
      "ham: We value your feedback. Share your thoughts with us.\n"
     ]
    }
   ],
   "source": [
    "print(df.label[0] + ': ' + df.email[0])\n",
    "print(df.label[1] + ': ' + df.email[1])\n",
    "print(df.label[11] + ': ' + df.email[11])"
   ]
  },
  {
   "cell_type": "code",
   "execution_count": 61,
   "id": "d69c0d96",
   "metadata": {},
   "outputs": [
    {
     "name": "stdout",
     "output_type": "stream",
     "text": [
      "Input data after preprocessing:\n",
      "[[  0   0   0   0   0   0   0  85  10  48  38  32  18  56 176   5   4   2\n",
      "  177  10]\n",
      " [  0   0   0   0   0   0   0   0   0   0  33   7  49   5   4   2  15   1\n",
      "   34  21]\n",
      " [  0   0   0   0   0   0   0   0   0   0   0  41 189   1  61  90   1 291\n",
      "   17  22]]\n"
     ]
    }
   ],
   "source": [
    "print(\"Input data after preprocessing:\")\n",
    "print(inputs[[0, 1, 11]])"
   ]
  },
  {
   "cell_type": "code",
   "execution_count": 4,
   "id": "d09063d5",
   "metadata": {},
   "outputs": [
    {
     "name": "stdout",
     "output_type": "stream",
     "text": [
      "Ham:  100\n",
      "Spam:      79\n"
     ]
    },
    {
     "data": {
      "text/plain": [
       "<Axes: >"
      ]
     },
     "execution_count": 4,
     "metadata": {},
     "output_type": "execute_result"
    },
    {
     "data": {
      "image/png": "[encoded data removed]",
      "text/plain": [
       "<Figure size 640x480 with 1 Axes>"
      ]
     },
     "metadata": {},
     "output_type": "display_data"
    }
   ],
   "source": [
    "print(f\"Ham:  {df.label.value_counts()[0]}\")\n",
    "print(f\"Spam:      {df.label.value_counts()[1]}\")\n",
    "df.label.value_counts().plot.bar()"
   ]
  },
  {
   "cell_type": "markdown",
   "id": "46a36ce4",
   "metadata": {},
   "source": [
    "### Proportional Chance Criterion"
   ]
  },
  {
   "cell_type": "code",
   "execution_count": 5,
   "id": "b5c7517d",
   "metadata": {},
   "outputs": [
    {
     "name": "stdout",
     "output_type": "stream",
     "text": [
      "Proportion Chance Criterion = 50.7%\n",
      "1.25*Proportion Chance Criterion = 63.4%\n"
     ]
    }
   ],
   "source": [
    "PCC = sum((df.label.value_counts() / len(df))**2)\n",
    "print(f\"Proportion Chance Criterion = {PCC*100:.1f}%\")\n",
    "print(f\"1.25*Proportion Chance Criterion = {PCC*125:.1f}%\")"
   ]
  },
  {
   "cell_type": "markdown",
   "id": "0deb1c8e",
   "metadata": {},
   "source": [
    "### Base Models"
   ]
  },
  {
   "cell_type": "code",
   "execution_count": 6,
   "id": "34c72f94-1edc-4ff0-8fea-4c17d2d284a2",
   "metadata": {
    "execution": {
     "iopub.execute_input": "2024-04-27T03:42:36.436889Z",
     "iopub.status.busy": "2024-04-27T03:42:36.436485Z",
     "iopub.status.idle": "2024-04-27T03:42:37.200113Z",
     "shell.execute_reply": "2024-04-27T03:42:37.199021Z",
     "shell.execute_reply.started": "2024-04-27T03:42:36.436864Z"
    }
   },
   "outputs": [],
   "source": [
    "# Simple RNN Model\n",
    "model_rnn = Sequential()\n",
    "model_rnn.add(Embedding(max_features, 32))\n",
    "model_rnn.add(SimpleRNN(32))\n",
    "model_rnn.add(Dense(1, activation='sigmoid'))\n",
    "model_rnn.compile(optimizer='rmsprop', loss='binary_crossentropy', metrics=['acc'])\n",
    "\n",
    "# LSTM Model\n",
    "model_lstm = Sequential()\n",
    "model_lstm.add(Embedding(max_features, 32))\n",
    "model_lstm.add(LSTM(32))\n",
    "model_lstm.add(Dense(1, activation='sigmoid'))\n",
    "model_lstm.compile(optimizer='rmsprop', loss='binary_crossentropy', metrics=['acc'])"
   ]
  },
  {
   "cell_type": "markdown",
   "id": "5c16cbb6",
   "metadata": {},
   "source": [
    "### Models w/ Dropout Parameter"
   ]
  },
  {
   "cell_type": "code",
   "execution_count": 7,
   "id": "8d53657b-f9f2-427b-b27e-0ed88b8d8ea5",
   "metadata": {
    "execution": {
     "iopub.execute_input": "2024-04-27T03:42:37.202061Z",
     "iopub.status.busy": "2024-04-27T03:42:37.201701Z",
     "iopub.status.idle": "2024-04-27T03:42:44.557766Z",
     "shell.execute_reply": "2024-04-27T03:42:44.556217Z",
     "shell.execute_reply.started": "2024-04-27T03:42:37.202041Z"
    }
   },
   "outputs": [],
   "source": [
    "model_rnn1 = Sequential()\n",
    "model_rnn1.add(Embedding(max_features, 32))\n",
    "model_rnn1.add(SimpleRNN(32, dropout=0.3))  # Add dropout to RNN layer\n",
    "model_rnn1.add(Dense(1, activation='sigmoid'))\n",
    "model_rnn1.compile(optimizer='rmsprop', loss='binary_crossentropy', metrics=['acc'])\n",
    "\n",
    "model_lstm1 = Sequential()\n",
    "model_lstm1.add(Embedding(max_features, 32))\n",
    "model_lstm1.add(LSTM(32, dropout=0.1, recurrent_dropout=0.3))  # Add dropout to LSTM layer\n",
    "model_lstm1.add(Dense(1, activation='sigmoid'))\n",
    "model_lstm1.compile(optimizer='rmsprop', loss='binary_crossentropy', metrics=['acc'])"
   ]
  },
  {
   "cell_type": "markdown",
   "id": "d70851fb",
   "metadata": {},
   "source": [
    "### Training"
   ]
  },
  {
   "cell_type": "code",
   "execution_count": 8,
   "id": "93df0ba0",
   "metadata": {},
   "outputs": [],
   "source": [
    "rnn_checkpoint = ModelCheckpoint(\n",
    "    'best_models/rnn.keras',      \n",
    "    monitor='val_loss',\n",
    "    save_best_only=True\n",
    ")\n",
    "\n",
    "rnn1_checkpoint = ModelCheckpoint(\n",
    "    'best_models/rnn1.keras',      \n",
    "    monitor='val_loss',\n",
    "    save_best_only=True,\n",
    ")\n",
    "\n",
    "lstm_checkpoint = ModelCheckpoint(\n",
    "    'best_models/lstm.keras',      \n",
    "    monitor='val_loss',\n",
    "    save_best_only=True\n",
    ")\n",
    "\n",
    "lstm1_checkpoint = ModelCheckpoint(\n",
    "    'best_models/lstm1.keras',      \n",
    "    monitor='val_loss',\n",
    "    save_best_only=True,\n",
    ")"
   ]
  },
  {
   "cell_type": "code",
   "execution_count": 9,
   "id": "edc08561",
   "metadata": {},
   "outputs": [
    {
     "name": "stdout",
     "output_type": "stream",
     "text": [
      "Epoch 1/10\n",
      "\u001b[1m4/4\u001b[0m \u001b[32m━━━━━━━━━━━━━━━━━━━━\u001b[0m\u001b[37m\u001b[0m \u001b[1m3s\u001b[0m 149ms/step - acc: 0.5362 - loss: 0.6805 - val_acc: 0.8889 - val_loss: 0.5678\n",
      "Epoch 2/10\n",
      "\u001b[1m4/4\u001b[0m \u001b[32m━━━━━━━━━━━━━━━━━━━━\u001b[0m\u001b[37m\u001b[0m \u001b[1m0s\u001b[0m 29ms/step - acc: 0.9287 - loss: 0.5188 - val_acc: 0.9444 - val_loss: 0.4773\n",
      "Epoch 3/10\n",
      "\u001b[1m4/4\u001b[0m \u001b[32m━━━━━━━━━━━━━━━━━━━━\u001b[0m\u001b[37m\u001b[0m \u001b[1m0s\u001b[0m 29ms/step - acc: 0.9630 - loss: 0.3726 - val_acc: 0.9722 - val_loss: 0.3806\n",
      "Epoch 4/10\n",
      "\u001b[1m4/4\u001b[0m \u001b[32m━━━━━━━━━━━━━━━━━━━━\u001b[0m\u001b[37m\u001b[0m \u001b[1m0s\u001b[0m 28ms/step - acc: 0.9709 - loss: 0.2558 - val_acc: 0.9722 - val_loss: 0.3095\n",
      "Epoch 5/10\n",
      "\u001b[1m4/4\u001b[0m \u001b[32m━━━━━━━━━━━━━━━━━━━━\u001b[0m\u001b[37m\u001b[0m \u001b[1m0s\u001b[0m 33ms/step - acc: 1.0000 - loss: 0.1866 - val_acc: 0.9722 - val_loss: 0.2569\n",
      "Epoch 6/10\n",
      "\u001b[1m4/4\u001b[0m \u001b[32m━━━━━━━━━━━━━━━━━━━━\u001b[0m\u001b[37m\u001b[0m \u001b[1m0s\u001b[0m 19ms/step - acc: 1.0000 - loss: 0.1172 - val_acc: 0.9444 - val_loss: 0.2974\n",
      "Epoch 7/10\n",
      "\u001b[1m4/4\u001b[0m \u001b[32m━━━━━━━━━━━━━━━━━━━━\u001b[0m\u001b[37m\u001b[0m \u001b[1m0s\u001b[0m 19ms/step - acc: 1.0000 - loss: 0.0866 - val_acc: 0.8611 - val_loss: 0.2981\n",
      "Epoch 8/10\n",
      "\u001b[1m4/4\u001b[0m \u001b[32m━━━━━━━━━━━━━━━━━━━━\u001b[0m\u001b[37m\u001b[0m \u001b[1m0s\u001b[0m 27ms/step - acc: 1.0000 - loss: 0.0727 - val_acc: 0.9722 - val_loss: 0.1665\n",
      "Epoch 9/10\n",
      "\u001b[1m4/4\u001b[0m \u001b[32m━━━━━━━━━━━━━━━━━━━━\u001b[0m\u001b[37m\u001b[0m \u001b[1m0s\u001b[0m 29ms/step - acc: 1.0000 - loss: 0.0498 - val_acc: 0.9722 - val_loss: 0.1510\n",
      "Epoch 10/10\n",
      "\u001b[1m4/4\u001b[0m \u001b[32m━━━━━━━━━━━━━━━━━━━━\u001b[0m\u001b[37m\u001b[0m \u001b[1m0s\u001b[0m 19ms/step - acc: 1.0000 - loss: 0.0376 - val_acc: 0.8611 - val_loss: 0.2575\n"
     ]
    }
   ],
   "source": [
    "history_rnn = model_rnn.fit(\n",
    "    x_train, y_train,\n",
    "    epochs=10,\n",
    "    batch_size=32,\n",
    "    validation_data=(x_val, y_val),\n",
    "    callbacks=[rnn_checkpoint],\n",
    "    verbose=1\n",
    ")\n",
    "\n",
    "history_rnn1 = model_rnn1.fit(\n",
    "    x_train, y_train,\n",
    "    epochs=10,\n",
    "    batch_size=32,\n",
    "    validation_data=(x_val, y_val),\n",
    "    callbacks=[rnn1_checkpoint],\n",
    "    verbose=0\n",
    ")\n",
    "\n",
    "history_lstm = model_lstm.fit(\n",
    "    x_train, y_train,\n",
    "    epochs=10,\n",
    "    batch_size=32,\n",
    "    validation_data=(x_val, y_val),\n",
    "    callbacks=[lstm_checkpoint],\n",
    "    verbose=0\n",
    ")\n",
    "\n",
    "history_lstm1 = model_lstm1.fit(\n",
    "    x_train, y_train,\n",
    "    epochs=10,\n",
    "    batch_size=32,\n",
    "    validation_data=(x_val, y_val),\n",
    "    callbacks=[lstm1_checkpoint],\n",
    "    verbose=0\n",
    ")"
   ]
  },
  {
   "cell_type": "markdown",
   "id": "0a5728db",
   "metadata": {},
   "source": [
    "### Evaluation"
   ]
  },
  {
   "cell_type": "code",
   "execution_count": 13,
   "id": "3550b14d",
   "metadata": {},
   "outputs": [],
   "source": [
    "model_rnn = tf.keras.models.load_model(\"best_models/rnn.keras\")\n",
    "model_rnn1 = tf.keras.models.load_model(\"best_models/rnn1.keras\")\n",
    "model_lstm = tf.keras.models.load_model(\"best_models/lstm.keras\")\n",
    "model_lstm1 = tf.keras.models.load_model(\"best_models/lstm1.keras\")"
   ]
  },
  {
   "cell_type": "code",
   "execution_count": 62,
   "id": "64d67f47",
   "metadata": {},
   "outputs": [
    {
     "name": "stdout",
     "output_type": "stream",
     "text": [
      "\u001b[1m1/1\u001b[0m \u001b[32m━━━━━━━━━━━━━━━━━━━━\u001b[0m\u001b[37m\u001b[0m \u001b[1m0s\u001b[0m 38ms/step\n",
      "\u001b[1m1/1\u001b[0m \u001b[32m━━━━━━━━━━━━━━━━━━━━\u001b[0m\u001b[37m\u001b[0m \u001b[1m0s\u001b[0m 270ms/step\n",
      "\u001b[1m1/1\u001b[0m \u001b[32m━━━━━━━━━━━━━━━━━━━━\u001b[0m\u001b[37m\u001b[0m \u001b[1m0s\u001b[0m 245ms/step\n",
      "\u001b[1m1/1\u001b[0m \u001b[32m━━━━━━━━━━━━━━━━━━━━\u001b[0m\u001b[37m\u001b[0m \u001b[1m0s\u001b[0m 284ms/step\n"
     ]
    }
   ],
   "source": [
    "pred_rnn = [round(i[0]) for i in model_rnn.predict(x_test)]\n",
    "pred_rnn1 = [round(i[0]) for i in model_rnn1.predict(x_test)]\n",
    "pred_lstm = [round(i[0]) for i in model_lstm.predict(x_test)]\n",
    "pred_lstm1 = [round(i[0]) for i in model_lstm1.predict(x_test)]"
   ]
  },
  {
   "cell_type": "code",
   "execution_count": 65,
   "id": "8fb85fcc",
   "metadata": {},
   "outputs": [
    {
     "data": {
      "text/html": [
       "<div>\n",
       "<style scoped>\n",
       "    .dataframe tbody tr th:only-of-type {\n",
       "        vertical-align: middle;\n",
       "    }\n",
       "\n",
       "    .dataframe tbody tr th {\n",
       "        vertical-align: top;\n",
       "    }\n",
       "\n",
       "    .dataframe thead th {\n",
       "        text-align: right;\n",
       "    }\n",
       "</style>\n",
       "<table border=\"1\" class=\"dataframe\">\n",
       "  <thead>\n",
       "    <tr style=\"text-align: right;\">\n",
       "      <th></th>\n",
       "      <th>Accuracy</th>\n",
       "      <th>Precision</th>\n",
       "      <th>Recall</th>\n",
       "      <th>F1</th>\n",
       "    </tr>\n",
       "  </thead>\n",
       "  <tbody>\n",
       "    <tr>\n",
       "      <th>RNN</th>\n",
       "      <td>0.963</td>\n",
       "      <td>1.000</td>\n",
       "      <td>0.923</td>\n",
       "      <td>0.960</td>\n",
       "    </tr>\n",
       "    <tr>\n",
       "      <th>LSTM</th>\n",
       "      <td>0.963</td>\n",
       "      <td>1.000</td>\n",
       "      <td>0.923</td>\n",
       "      <td>0.960</td>\n",
       "    </tr>\n",
       "    <tr>\n",
       "      <th>RNN w/ Dropout</th>\n",
       "      <td>0.926</td>\n",
       "      <td>0.923</td>\n",
       "      <td>0.923</td>\n",
       "      <td>0.923</td>\n",
       "    </tr>\n",
       "    <tr>\n",
       "      <th>LSTM w/ Dropout</th>\n",
       "      <td>0.963</td>\n",
       "      <td>1.000</td>\n",
       "      <td>0.923</td>\n",
       "      <td>0.960</td>\n",
       "    </tr>\n",
       "  </tbody>\n",
       "</table>\n",
       "</div>"
      ],
      "text/plain": [
       "                 Accuracy  Precision  Recall     F1\n",
       "RNN                 0.963      1.000   0.923  0.960\n",
       "LSTM                0.963      1.000   0.923  0.960\n",
       "RNN w/ Dropout      0.926      0.923   0.923  0.923\n",
       "LSTM w/ Dropout     0.963      1.000   0.923  0.960"
      ]
     },
     "metadata": {},
     "output_type": "display_data"
    }
   ],
   "source": [
    "results = {'RNN': {'Accuracy': accuracy_score(y_test, pred_rnn),\n",
    "                   'Precision': precision_score(y_test, pred_rnn),\n",
    "                   'Recall': recall_score(y_test, pred_rnn),\n",
    "                   'F1': f1_score(y_test, pred_rnn)},\n",
    "           'LSTM': {'Accuracy': accuracy_score(y_test, pred_lstm),\n",
    "                   'Precision': precision_score(y_test, pred_lstm),\n",
    "                   'Recall': recall_score(y_test, pred_lstm),\n",
    "                   'F1': f1_score(y_test, pred_lstm)},\n",
    "           'RNN w/ Dropout': {'Accuracy': accuracy_score(y_test, pred_rnn1),\n",
    "                   'Precision': precision_score(y_test, pred_rnn1),\n",
    "                   'Recall': recall_score(y_test, pred_rnn1),\n",
    "                   'F1': f1_score(y_test, pred_rnn1)},\n",
    "           'LSTM w/ Dropout': {'Accuracy': accuracy_score(y_test, pred_lstm1),\n",
    "                   'Precision': precision_score(y_test, pred_lstm1),\n",
    "                   'Recall': recall_score(y_test, pred_lstm1),\n",
    "                   'F1': f1_score(y_test, pred_lstm1)},\n",
    "           }\n",
    "\n",
    "display(pd.DataFrame(results).T.round(3))"
   ]
  }
 ],
 "metadata": {
  "kernelspec": {
   "display_name": "Python 3 (ipykernel)",
   "language": "python",
   "name": "python3"
  },
  "language_info": {
   "codemirror_mode": {
    "name": "ipython",
    "version": 3
   },
   "file_extension": ".py",
   "mimetype": "text/x-python",
   "name": "python",
   "nbconvert_exporter": "python",
   "pygments_lexer": "ipython3",
   "version": "3.10.12"
  }
 },
 "nbformat": 4,
 "nbformat_minor": 5
}
